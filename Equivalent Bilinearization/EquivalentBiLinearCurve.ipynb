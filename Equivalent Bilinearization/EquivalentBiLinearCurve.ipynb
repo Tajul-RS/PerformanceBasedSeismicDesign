{
 "cells": [
  {
   "cell_type": "code",
   "execution_count": 1,
   "id": "9272bc71",
   "metadata": {},
   "outputs": [],
   "source": [
    "import numpy as np                                                                                          ###\n",
    "import pandas as pd\n",
    "import matplotlib.pyplot as plt   \n",
    "from scipy.interpolate import interp1d"
   ]
  },
  {
   "cell_type": "code",
   "execution_count": 2,
   "id": "626587bd",
   "metadata": {},
   "outputs": [
    {
     "name": "stdout",
     "output_type": "stream",
     "text": [
      "Enter the Name of the Nonlinear Curve Data File to be Read: PushoverCurve\n"
     ]
    }
   ],
   "source": [
    "NLinFile=input(\"Enter the Name of the Nonlinear Curve Data File to be Read: \")\n",
    "f=pd.read_excel(NLinFile + \".xlsx\", header=None)\n",
    "Disp=f[0].tolist()\n",
    "Force = f[1].tolist()\n",
    "AreaFD = []\n",
    "for i in range(len(Force)):\n",
    "    if i>0:\n",
    "        area = ((Force[i]+Force[i-1])/2)*(Disp[i]-Disp[i-1])\n",
    "        AreaFD.append(area)\n",
    "Energy = sum(AreaFD)"
   ]
  },
  {
   "cell_type": "code",
   "execution_count": 3,
   "id": "1e547e70",
   "metadata": {},
   "outputs": [],
   "source": [
    "tol = 1   # This value can be decided by the user. Lower is better.\n",
    "\n",
    "MaxForceRatio = 0.98      # This value can be decided by the user\n",
    "if Force[-1]/max(Force)<0.80:\n",
    "    UltimateForceRatio = 0.80\n",
    "else:\n",
    "    UltimateForceRatio = MaxForceRatio\n",
    "\n",
    "Linearforceratio = 0.15        # It assumes that initial slope remains same upto 15% of the maximum force.\n",
    "                                # It can be increased by the user if the initial portion of the curve is linear\n",
    "\n",
    "Disp_sl_initial=np.interp(Linearforceratio*max(Force),Force,Disp)\n",
    "Disp_sl_final=np.interp(UltimateForceRatio*max(Force),Force,Disp)\n",
    "Sl_initial = (Linearforceratio*max(Force)-Force[0])/(Disp_sl_initial-Disp[0]) # Assumed initial Slope\n",
    "Sl_final = (UltimateForceRatio*max(Force)-Force[0])/(Disp_sl_final-Disp[0]) # Assumed Final Slope"
   ]
  },
  {
   "cell_type": "code",
   "execution_count": 4,
   "id": "b19d6fd6",
   "metadata": {},
   "outputs": [],
   "source": [
    "#Selecting first and Last points\n",
    "F1=Force[0]; D1=Disp[0] #First point\n",
    "F3=UltimateForceRatio*max(Force); D3 = max(Disp) # Last Point\n",
    "\n",
    "slope_interval = 0.002   #This value can be decided by the user. Lower is better.\n",
    "Slr=list(np.arange(Sl_final,Sl_initial,slope_interval))\n",
    "Fr=list(np.arange(Linearforceratio*max(Force),UltimateForceRatio*max(Force),1))\n",
    "Fr.insert(len(Fr), UltimateForceRatio*max(Force))\n",
    "Slr.insert(len(Slr), Sl_initial)"
   ]
  },
  {
   "cell_type": "code",
   "execution_count": 5,
   "id": "4c1a55f9",
   "metadata": {},
   "outputs": [],
   "source": [
    "# Determining all possible bilinear combinations\n",
    "D2 =[]; F2 =[]; Slr2 =[];\n",
    "for slr in Slr:\n",
    "    for fr in Fr:\n",
    "        f2 = fr\n",
    "        d2 = ((f2-F1)/slr)+D1\n",
    "        Energy_equi = (f2+F1)*(d2-D1)/2+(F3+f2)*(D3-d2)/2\n",
    "        if abs(Energy-Energy_equi)<tol:\n",
    "            print(\"Condition Satisfied\")\n",
    "            D2.append(d2)\n",
    "            F2.append(f2)\n",
    "            Slr2.append(slr)\n",
    "            break\n",
    "        else:\n",
    "            pass"
   ]
  },
  {
   "cell_type": "code",
   "execution_count": 6,
   "id": "739f513c",
   "metadata": {},
   "outputs": [],
   "source": [
    "#Possible Combinations obtained after bilinearization\n",
    "PP = []\n",
    "for i in range(len(D2)):\n",
    "    Displ = [D1, D2[i], D3]\n",
    "    Forces = [F1, F2[i], F3]\n",
    "    pp = [Displ, Forces]\n",
    "    PP.append(pp)"
   ]
  },
  {
   "cell_type": "code",
   "execution_count": 7,
   "id": "cd28c570",
   "metadata": {},
   "outputs": [],
   "source": [
    "# Determining intersection force to yield force ratio\n",
    "F_Ratio = []     #It records the ratio of the force corresponding to the intersection of initial slope line with the to the yield force \n",
    "                # slope close to the ratio of 0.6 will be finalized\n",
    "F_Ratio_tol = []\n",
    "for i in range(len(PP)): \n",
    "    y_interp = interp1d(PP[i][0], PP[i][1])   # This interpolates the force in the bilinearised curve corresponding to the original Disp range vlues. \n",
    "    Force_intpol =[]\n",
    "    for ele in Disp:\n",
    "        force_intpl = float(y_interp(ele))\n",
    "        Force_intpol.append(force_intpl)\n",
    "    idx = np.argwhere(np.diff(np.sign(np.array(Force)- np.array(Force_intpol)))).flatten()\n",
    "    Intersection_Force = Force[idx[1]]\n",
    "    f_ratio = Force[idx[1]]/PP[i][1][1]\n",
    "    f_r_tol = abs(0.6-Force[idx[1]]/PP[i][1][1])\n",
    "    F_Ratio.append(f_ratio)\n",
    "    F_Ratio_tol.append(f_r_tol)"
   ]
  },
  {
   "cell_type": "code",
   "execution_count": 8,
   "id": "af1e8a58",
   "metadata": {},
   "outputs": [],
   "source": [
    "# It identifies the index of bilinear curve out of all possible combinations for intersection to yield value is close to 0.6\n",
    "bilin_Combination_indx=pd.Series(F_Ratio_tol).idxmin()"
   ]
  },
  {
   "cell_type": "code",
   "execution_count": 9,
   "id": "505df9fa",
   "metadata": {},
   "outputs": [
    {
     "data": {
      "image/png": "[encoded data removed]",
      "text/plain": [
       "<Figure size 432x288 with 1 Axes>"
      ]
     },
     "metadata": {
      "needs_background": "light"
     },
     "output_type": "display_data"
    },
    {
     "name": "stdout",
     "output_type": "stream",
     "text": [
      "intersection force to yield force ratio: 0.6299901610093066\n"
     ]
    }
   ],
   "source": [
    "# Finalized Bilinear Curve:\n",
    "Disp_bilin_curve = PP[bilin_Combination_indx][0]\n",
    "Force_bilin_curve = PP[bilin_Combination_indx][1]\n",
    "\n",
    "# Ploting bilinear and original curves \n",
    "plt.plot(Disp_bilin_curve, Force_bilin_curve)\n",
    "plt.plot(Disp, Force)\n",
    "plt.xlabel(\"Roof Displacements\")\n",
    "plt.ylabel(\"Base Shear\")\n",
    "plt.title(\"Equivalent BiLinear Pushover Curves\")\n",
    "plt.show()\n",
    "print(\"intersection force to yield force ratio:\", F_Ratio[bilin_Combination_indx])"
   ]
  },
  {
   "cell_type": "code",
   "execution_count": null,
   "id": "64bcb1e5",
   "metadata": {},
   "outputs": [],
   "source": []
  }
 ],
 "metadata": {
  "kernelspec": {
   "display_name": "Python 3 (ipykernel)",
   "language": "python",
   "name": "python3"
  },
  "language_info": {
   "codemirror_mode": {
    "name": "ipython",
    "version": 3
   },
   "file_extension": ".py",
   "mimetype": "text/x-python",
   "name": "python",
   "nbconvert_exporter": "python",
   "pygments_lexer": "ipython3",
   "version": "3.8.0"
  }
 },
 "nbformat": 4,
 "nbformat_minor": 5
}
